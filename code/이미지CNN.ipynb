{
 "cells": [
  {
   "cell_type": "code",
   "execution_count": null,
   "metadata": {},
   "outputs": [],
   "source": [
    "import pandas as pd\n",
    "import numpy as np\n",
    "\n",
    "import torch\n",
    "import torch.nn.init\n",
    "from torch.utils.data import Dataset\n",
    "from torch.utils.data import DataLoader"
   ]
  },
  {
   "cell_type": "code",
   "execution_count": null,
   "metadata": {},
   "outputs": [],
   "source": [
    "data_dir = 'C:\\\\2022_dacon_tourist_ai\\\\data\\\\'\n",
    "df_train = pd.read_csv(data_dir+'train.csv')\n",
    "df_test = pd.read_csv(data_dir+'test.csv')\n",
    "df_submit = pd.read_csv(data_dir+'sample_submission.csv')\n",
    "display(df_train.head())\n",
    "display(df_test.head())\n",
    "display(df_submit.head())"
   ]
  },
  {
   "cell_type": "code",
   "execution_count": null,
   "metadata": {},
   "outputs": [],
   "source": []
  }
 ],
 "metadata": {
  "kernelspec": {
   "display_name": "Python 3.9.1 64-bit (system)",
   "language": "python",
   "name": "python3"
  },
  "language_info": {
   "name": "python",
   "version": "3.9.1"
  },
  "orig_nbformat": 4,
  "vscode": {
   "interpreter": {
    "hash": "09f417c7010b6da1a14b56362e8612ec47d265692fe9e5b223368e9a7bf5f36c"
   }
  }
 },
 "nbformat": 4,
 "nbformat_minor": 2
}
